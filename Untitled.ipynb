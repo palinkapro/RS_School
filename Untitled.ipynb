{
 "cells": [
  {
   "cell_type": "code",
   "execution_count": 1,
   "metadata": {
    "ExecuteTime": {
     "end_time": "2021-01-19T07:56:01.181429Z",
     "start_time": "2021-01-19T07:56:01.160597Z"
    }
   },
   "outputs": [
    {
     "data": {
      "text/plain": [
       "76431"
      ]
     },
     "execution_count": 1,
     "metadata": {},
     "output_type": "execute_result"
    }
   ],
   "source": [
    "\n",
    "def descending_order(num):\n",
    "    digits = list(str(num))\n",
    "    digits.sort(reverse=True)\n",
    "    num2 = ''.join(digits)\n",
    "    return int(num2)\n",
    "descending_order(13467)"
   ]
  },
  {
   "cell_type": "code",
   "execution_count": 10,
   "metadata": {
    "ExecuteTime": {
     "end_time": "2021-01-19T07:54:51.260532Z",
     "start_time": "2021-01-19T07:54:51.249074Z"
    }
   },
   "outputs": [
    {
     "data": {
      "text/plain": [
       "76431"
      ]
     },
     "execution_count": 10,
     "metadata": {},
     "output_type": "execute_result"
    }
   ],
   "source": []
  },
  {
   "cell_type": "code",
   "execution_count": null,
   "metadata": {},
   "outputs": [],
   "source": []
  }
 ],
 "metadata": {
  "kernelspec": {
   "display_name": "Python 3",
   "language": "python",
   "name": "python3"
  },
  "language_info": {
   "codemirror_mode": {
    "name": "ipython",
    "version": 3
   },
   "file_extension": ".py",
   "mimetype": "text/x-python",
   "name": "python",
   "nbconvert_exporter": "python",
   "pygments_lexer": "ipython3",
   "version": "3.9.1"
  }
 },
 "nbformat": 4,
 "nbformat_minor": 4
}
