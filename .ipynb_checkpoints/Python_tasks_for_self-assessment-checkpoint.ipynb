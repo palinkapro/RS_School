{
 "cells": [
  {
   "cell_type": "code",
   "execution_count": 1,
   "metadata": {
    "ExecuteTime": {
     "end_time": "2021-01-19T07:56:01.181429Z",
     "start_time": "2021-01-19T07:56:01.160597Z"
    }
   },
   "outputs": [
    {
     "data": {
      "text/plain": [
       "76431"
      ]
     },
     "execution_count": 1,
     "metadata": {},
     "output_type": "execute_result"
    }
   ],
   "source": [
    "def descending_order(num):\n",
    "    digits = list(str(num))\n",
    "    digits.sort(reverse=True)\n",
    "    num2 = ''.join(digits)\n",
    "    return int(num2)\n",
    "descending_order(13467)"
   ]
  },
  {
   "cell_type": "code",
   "execution_count": 9,
   "metadata": {
    "ExecuteTime": {
     "end_time": "2021-01-19T09:04:56.244220Z",
     "start_time": "2021-01-19T09:04:56.234236Z"
    }
   },
   "outputs": [
    {
     "data": {
      "text/plain": [
       "811181"
      ]
     },
     "execution_count": 9,
     "metadata": {},
     "output_type": "execute_result"
    }
   ],
   "source": [
    "def square_digits(num):  \n",
    "    digits = []\n",
    "    while num > 0:\n",
    "        digits.append(str((num % 10) ** 2))\n",
    "        num = num // 10\n",
    "    digits.reverse()\n",
    "    num2 = ''.join(digits)\n",
    "    return int(num2)\n",
    "square_digits(9119)"
   ]
  },
  {
   "cell_type": "code",
   "execution_count": 13,
   "metadata": {
    "ExecuteTime": {
     "end_time": "2021-01-19T09:19:49.072068Z",
     "start_time": "2021-01-19T09:19:49.036510Z"
    }
   },
   "outputs": [
    {
     "data": {
      "text/plain": [
       "5"
      ]
     },
     "execution_count": 13,
     "metadata": {},
     "output_type": "execute_result"
    }
   ],
   "source": [
    "from collections import Counter\n",
    "\n",
    "def find_it(seq):\n",
    "    counter = Counter(seq)\n",
    "    for key, value in counter.items():\n",
    "        if value % 2 != 0:\n",
    "            return key\n",
    "        \n",
    "find_it([20,1,-1,2,-2,3,3,5,5,1,2,4,20,4,-1,-2,5])\n",
    "\n",
    "#much better\n",
    "#def find_it(seq):\n",
    "#    for i in seq:\n",
    "#        if seq.count(i)%2!=0:\n",
    "#            return i"
   ]
  },
  {
   "cell_type": "code",
   "execution_count": 36,
   "metadata": {
    "ExecuteTime": {
     "end_time": "2021-01-19T09:49:16.135305Z",
     "start_time": "2021-01-19T09:49:16.122766Z"
    }
   },
   "outputs": [
    {
     "data": {
      "text/plain": [
       "3"
      ]
     },
     "execution_count": 36,
     "metadata": {},
     "output_type": "execute_result"
    }
   ],
   "source": [
    "import functools\n",
    "\n",
    "def persistence(n, counter=0):\n",
    "    if len(str(n)) == 1:\n",
    "        return counter\n",
    "    else:\n",
    "        n_list = list(str(n))\n",
    "        num = functools.reduce(lambda x, y: int(x) * int(y), n_list)\n",
    "        counter += 1\n",
    "        return persistence(num, counter)\n",
    "    \n",
    "persistence(39)"
   ]
  },
  {
   "cell_type": "code",
   "execution_count": 41,
   "metadata": {
    "ExecuteTime": {
     "end_time": "2021-01-19T10:06:24.537542Z",
     "start_time": "2021-01-19T10:06:24.525754Z"
    }
   },
   "outputs": [
    {
     "data": {
      "text/plain": [
       "2"
      ]
     },
     "execution_count": 41,
     "metadata": {},
     "output_type": "execute_result"
    }
   ],
   "source": [
    "from collections import Counter\n",
    "\n",
    "def duplicate_count(text):\n",
    "    text = text.lower()\n",
    "    freq = Counter(text)\n",
    "    counter = 0\n",
    "    for key, value in freq.items():\n",
    "        if value > 1:\n",
    "            counter += 1\n",
    "    return counter\n",
    "\n",
    "duplicate_count(\"abcbede\")"
   ]
  },
  {
   "cell_type": "code",
   "execution_count": 3,
   "metadata": {
    "ExecuteTime": {
     "end_time": "2021-01-19T18:30:25.578259Z",
     "start_time": "2021-01-19T18:30:25.568658Z"
    }
   },
   "outputs": [
    {
     "data": {
      "text/plain": [
       "'Ths wbst s fr lsrs LL!'"
      ]
     },
     "execution_count": 3,
     "metadata": {},
     "output_type": "execute_result"
    }
   ],
   "source": [
    "import re\n",
    "\n",
    "def disemvowel(string):\n",
    "    string = re.sub(\"[aeiouAEIOU]\", \"\", string)\n",
    "    return string\n",
    "\n",
    "disemvowel(\"This website is for losers LOL!\")"
   ]
  },
  {
   "cell_type": "code",
   "execution_count": 6,
   "metadata": {
    "ExecuteTime": {
     "end_time": "2021-01-19T18:36:49.518137Z",
     "start_time": "2021-01-19T18:36:49.508083Z"
    }
   },
   "outputs": [
    {
     "data": {
      "text/plain": [
       "False"
      ]
     },
     "execution_count": 6,
     "metadata": {},
     "output_type": "execute_result"
    }
   ],
   "source": [
    "def validate_pin(pin):\n",
    "    if pin.isdigit() and (len(pin) == 4 or len(pin) == 6):\n",
    "        return True\n",
    "    else:\n",
    "        return False\n",
    "    \n",
    "validate_pin(\"12345\")"
   ]
  },
  {
   "cell_type": "code",
   "execution_count": 19,
   "metadata": {
    "ExecuteTime": {
     "end_time": "2021-01-19T18:55:43.524601Z",
     "start_time": "2021-01-19T18:55:43.513444Z"
    }
   },
   "outputs": [
    {
     "data": {
      "text/plain": [
       "'theStealthWarrior'"
      ]
     },
     "execution_count": 19,
     "metadata": {},
     "output_type": "execute_result"
    }
   ],
   "source": [
    "def to_camel_case(text):\n",
    "    text = text.replace('_', ' ').replace('-', ' ').split()\n",
    "    for i in range(len(text)):\n",
    "        if i != 0:\n",
    "            text[i] = text[i].capitalize()\n",
    "    return ''.join(text)\n",
    "\n",
    "to_camel_case(\"the_stealth_warrior\")\n",
    "    "
   ]
  },
  {
   "cell_type": "code",
   "execution_count": 25,
   "metadata": {
    "ExecuteTime": {
     "end_time": "2021-01-19T19:09:16.740763Z",
     "start_time": "2021-01-19T19:09:16.730692Z"
    }
   },
   "outputs": [
    {
     "data": {
      "text/plain": [
       "['as', 'df', 'ad', 'sf', 's_']"
      ]
     },
     "execution_count": 25,
     "metadata": {},
     "output_type": "execute_result"
    }
   ],
   "source": [
    "def solution(s):\n",
    "    result = []\n",
    "    for i in range(0, len(s), 2):\n",
    "        result.append(s[i:i+2])\n",
    "    if len(s) % 2 != 0:\n",
    "        result[-1] += '_'\n",
    "    return result\n",
    "solution(\"asdfadsfs\")"
   ]
  },
  {
   "cell_type": "code",
   "execution_count": 80,
   "metadata": {
    "ExecuteTime": {
     "end_time": "2021-01-19T20:12:17.310841Z",
     "start_time": "2021-01-19T20:12:17.299106Z"
    }
   },
   "outputs": [
    {
     "data": {
      "text/plain": [
       "'google'"
      ]
     },
     "execution_count": 80,
     "metadata": {},
     "output_type": "execute_result"
    }
   ],
   "source": [
    "import re \n",
    "\n",
    "def domain_name(url):\n",
    "    if \"www\" in url:\n",
    "        string = re.search(r'www\\.(.*?)\\.', url).group(1)\n",
    "    elif \"://\" in url:\n",
    "        string = re.search(r'://(.*?)\\.', url).group(1)\n",
    "    else:\n",
    "        string = url.split('.')[0]\n",
    "    return string\n",
    "    \n",
    "domain_name(\"www.google.com\")\n",
    "\n",
    "#better solution\n",
    "#re.search('(https?://)?(www\\d?\\.)?(?P<name>[\\w-]+)\\.', url).group('name')"
   ]
  },
  {
   "cell_type": "code",
   "execution_count": null,
   "metadata": {},
   "outputs": [],
   "source": []
  },
  {
   "cell_type": "code",
   "execution_count": null,
   "metadata": {},
   "outputs": [],
   "source": []
  }
 ],
 "metadata": {
  "kernelspec": {
   "display_name": "Python 3",
   "language": "python",
   "name": "python3"
  },
  "language_info": {
   "codemirror_mode": {
    "name": "ipython",
    "version": 3
   },
   "file_extension": ".py",
   "mimetype": "text/x-python",
   "name": "python",
   "nbconvert_exporter": "python",
   "pygments_lexer": "ipython3",
   "version": "3.9.1"
  }
 },
 "nbformat": 4,
 "nbformat_minor": 4
}
